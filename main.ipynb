{
 "cells": [
  {
   "cell_type": "code",
   "execution_count": 90,
   "metadata": {},
   "outputs": [
    {
     "name": "stdout",
     "output_type": "stream",
     "text": [
      "{201935: [0.49700598802395207, 0.381], 202695: [0.5690072639225182, 0.417], 1626181: [0.5364583333333334, 0.435], 1629611: [0.6332179930795848, 0.348], 1627826: [0.649325626204239, 0.0], 201566: [0.5088408644400786, 0.273], 1629599: [0.5714285714285714, 0.38], 1628464: [0.5855855855855856, 0.366]}\n"
     ]
    }
   ],
   "source": [
    "from nba_api.stats.static import players\n",
    "from nba_api.stats.static import teams\n",
    "from nba_api.stats import endpoints\n",
    "import pandas as pd\n",
    "\n",
    "pg = players.find_players_by_full_name('paul george')[0]\n",
    "pg_id = pg['id']\n",
    "\n",
    "# get top 8 pg teammates with most mins played\n",
    "\n",
    "clippers = teams.find_team_by_abbreviation('lac')\n",
    "clippers_id = clippers['id']\n",
    "clippers_roster = endpoints.teamplayerdashboard.TeamPlayerDashboard(team_id=clippers_id, season='2023-24').get_data_frames()[0]\n",
    "clippers_roster_data = endpoints.commonteamroster.CommonTeamRoster(team_id=clippers_id, season = '2023-24').get_data_frames()[0]\n",
    "\n",
    "\n",
    "player_minutes = []\n",
    "\n",
    "# get the minutes for each player\n",
    "\n",
    "for index, player in clippers_roster_data.iterrows():\n",
    "    if player['PLAYER_ID'] != pg_id:\n",
    "        player_id = player['PLAYER_ID']\n",
    "        player_name = player['PLAYER']\n",
    "        game_log = endpoints.playergamelog.PlayerGameLog(player_id=player_id, season='2023-24').get_data_frames()[0]\n",
    "        total_minutes = game_log['MIN'].sum()\n",
    "        player_minutes.append({'name': player_name, 'minutes': total_minutes, 'id': player_id})\n",
    "\n",
    "\n",
    "# sort top 8\n",
    "\n",
    "minutes_df = pd.DataFrame(player_minutes)\n",
    "top_8 = minutes_df.sort_values('minutes', ascending=False).head(8)\n",
    "\n",
    "top_8_id = []\n",
    "for index, player in top_8.iterrows():\n",
    "    top_8_id.append((player['id']))\n",
    "\n",
    "\n",
    "# get the two pt and three pt for each player\n",
    "\n",
    "top_8_shooting_splits = {}\n",
    "\n",
    "for top_8_player_id in top_8_id:\n",
    "    top_8_player_stats = endpoints.playerdashboardbygeneralsplits.PlayerDashboardByGeneralSplits(player_id=top_8_player_id, season='2023-24').get_data_frames()[0]\n",
    "    three_pt_percent = top_8_player_stats['FG3_PCT'][0]\n",
    "    two_pt_percent = (top_8_player_stats['FGM'][0] - top_8_player_stats['FG3M'][0]) / (top_8_player_stats['FGA'][0] - top_8_player_stats['FG3A'][0])\n",
    "    two_three_array = [two_pt_percent, three_pt_percent]\n",
    "    top_8_shooting_splits[top_8_player_id] = two_three_array\n",
    "\n",
    "    \n",
    "print(top_8_shooting_splits)\n",
    "\n",
    "    \n",
    "\n",
    "\n",
    "\n",
    "\n",
    "\n",
    "\n",
    "\n",
    "\n",
    "\n",
    "\n",
    "\n"
   ]
  }
 ],
 "metadata": {
  "kernelspec": {
   "display_name": ".venv",
   "language": "python",
   "name": "python3"
  },
  "language_info": {
   "codemirror_mode": {
    "name": "ipython",
    "version": 3
   },
   "file_extension": ".py",
   "mimetype": "text/x-python",
   "name": "python",
   "nbconvert_exporter": "python",
   "pygments_lexer": "ipython3",
   "version": "3.12.3"
  }
 },
 "nbformat": 4,
 "nbformat_minor": 2
}
